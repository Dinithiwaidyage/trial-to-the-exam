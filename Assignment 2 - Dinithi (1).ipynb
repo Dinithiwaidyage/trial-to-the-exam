{
 "cells": [
  {
   "cell_type": "markdown",
   "id": "7b4a6a28",
   "metadata": {},
   "source": [
    "# Name: Waidyage Keerthilanka Dinithi Waidyage\n",
    "## Date  : 16 - March - 2024\n",
    "\n",
    "### Exercise 2"
   ]
  },
  {
   "cell_type": "code",
   "execution_count": 1,
   "id": "035f93e2",
   "metadata": {},
   "outputs": [
    {
     "name": "stdout",
     "output_type": "stream",
     "text": [
      "The result of the calculation was:\n",
      "149769\n"
     ]
    }
   ],
   "source": [
    "x = 100\n",
    "y = 29\n",
    "result = (x + y) * 3\n",
    "result_exponent = result ** 2\n",
    "print(\"The result of the calculation was:\")\n",
    "print(result_exponent)"
   ]
  },
  {
   "cell_type": "code",
   "execution_count": 2,
   "id": "e6a63126",
   "metadata": {},
   "outputs": [
    {
     "name": "stdout",
     "output_type": "stream",
     "text": [
      "Enter your name: John\n",
      "Enter your year of birth: 1995\n",
      "Enter your age: 26\n",
      "Password: 95Joh676\n"
     ]
    }
   ],
   "source": [
    "# variable1 = name\n",
    "# variable2 = year of birth\n",
    "# variable3 = age\n",
    "name = input(\"Enter your name: \")\n",
    "year_of_birth = int(input(\"Enter your year of birth: \"))\n",
    "age = int(input(\"Enter your age: \"))\n",
    "year_last_two_digits = str(year_of_birth)[-2:]\n",
    "name_first_three_letters = name[:3]\n",
    "age_power_two = str(age**2)\n",
    "password = year_last_two_digits + name_first_three_letters + age_power_two\n",
    "print(\"Password:\", password)"
   ]
  },
  {
   "cell_type": "code",
   "execution_count": 3,
   "id": "a31ea669",
   "metadata": {},
   "outputs": [
    {
     "name": "stdout",
     "output_type": "stream",
     "text": [
      "1st number: 1\n",
      "2nd number: 0\n",
      "One of the numbers is even.\n"
     ]
    }
   ],
   "source": [
    "    first_number = int(input(\"1st number: \"))\n",
    "    second_number = int(input(\"2nd number: \"))\n",
    "    if first_number % 2 == 0 and second_number % 2 == 0:\n",
    "        print(\"Both numbers are even.\")\n",
    "    elif first_number % 2 == 0 or second_number % 2 == 0:\n",
    "        print(\"One of the numbers is even.\")\n",
    "    else:\n",
    "        print(\"Both numbers are odd.\")"
   ]
  },
  {
   "cell_type": "code",
   "execution_count": 4,
   "id": "00ea645d",
   "metadata": {},
   "outputs": [
    {
     "name": "stdout",
     "output_type": "stream",
     "text": [
      "Give an integer:5\n",
      "The sum was: 10\n"
     ]
    }
   ],
   "source": [
    "def calculate_sum(n):\n",
    "    \"\"\"\n",
    "    Function to calculate the sum of all positive numbers from 0 to n-1\n",
    "    \"\"\"\n",
    "    total = 0\n",
    "    for i in range(n):\n",
    "        total += i\n",
    "    return total\n",
    "\n",
    "def main():\n",
    "    \"\"\"\n",
    "    Main Fnction to get user input and calculate the sum.\n",
    "    \"\"\"\n",
    "    try:\n",
    "        number = int(input(\"Give an integer:\"))\n",
    "        if number < 0:\n",
    "            print(\"Please enter a positive integer.\")\n",
    "            return\n",
    "        result = calculate_sum(number)\n",
    "        print(\"The sum was:\", result)\n",
    "    except ValueError:\n",
    "        print(\"please enter a valid integer.\")\n",
    "        \n",
    "if __name__== \"__main__\":\n",
    "    main()\n",
    "    \n",
    "    "
   ]
  },
  {
   "cell_type": "code",
   "execution_count": 5,
   "id": "e81a3025",
   "metadata": {},
   "outputs": [
    {
     "name": "stdout",
     "output_type": "stream",
     "text": [
      "Welcome to the guessing game!\n",
      "Try to guess the number between 0 and 10.\n",
      "Enter your guess: 8\n",
      "Try a smaller number.\n",
      "Enter your guess: 5\n",
      "Try a greater number.\n",
      "Enter your guess: 6\n",
      "That's right! The number was 6\n",
      "Number of tries: 3\n"
     ]
    }
   ],
   "source": [
    "import random\n",
    "\n",
    "def guessing_game():\n",
    "    target_number = random.randint(0, 10)\n",
    "    tries = 0\n",
    "    \n",
    "    print(\"Welcome to the guessing game!\")\n",
    "    print(\"Try to guess the number between 0 and 10.\")\n",
    "    \n",
    "    while True:\n",
    "        guess = int(input(\"Enter your guess: \"))\n",
    "        tries += 1\n",
    "        \n",
    "        if guess < target_number:\n",
    "            print(\"Try a greater number.\")\n",
    "        elif guess > target_number:\n",
    "            print(\"Try a smaller number.\")\n",
    "        else:\n",
    "            print(\"That's right! The number was\", target_number)\n",
    "            print(\"Number of tries:\", tries)\n",
    "            break\n",
    "\n",
    "guessing_game()\n"
   ]
  },
  {
   "cell_type": "code",
   "execution_count": 2,
   "id": "4a0a36c0",
   "metadata": {},
   "outputs": [
    {
     "name": "stdout",
     "output_type": "stream",
     "text": [
      "Welcome to the two-player guessing game!\n",
      "Enter Player 1's name: mal\n",
      "Enter Player 2's name: ban\n",
      "mal, try to guess the number between 0 and 10.\n",
      "Enter your guess: 10\n",
      "Try a smaller number.\n",
      "Enter your guess: 2\n",
      "Try a greater number.\n",
      "Enter your guess: 9\n",
      "Try a smaller number.\n",
      "Enter your guess: 4\n",
      "Try a greater number.\n",
      "Enter your guess: 8\n",
      "Try a smaller number.\n",
      "Enter your guess: 6\n",
      "That's right, mal! The number was 6. Number of tries: 6\n",
      "\n",
      "ban, try to guess the number between 0 and 10.\n",
      "Enter your guess: 1\n",
      "Try a greater number.\n",
      "Enter your guess: 5\n",
      "Try a greater number.\n",
      "Enter your guess: 8\n",
      "That's right, ban! The number was 8. Number of tries: 3\n",
      "\n",
      "ban wins with 3 tries!\n"
     ]
    }
   ],
   "source": [
    "import random\n",
    "\n",
    "def play_game(player_name):\n",
    "    target_number = random.randint(0, 10)\n",
    "    tries = 0\n",
    "\n",
    "    print(f\"{player_name}, try to guess the number between 0 and 10.\")\n",
    "\n",
    "    while True:\n",
    "        guess = int(input(\"Enter your guess: \"))\n",
    "        tries += 1\n",
    "\n",
    "        if guess < target_number:\n",
    "            print(\"Try a greater number.\")\n",
    "        elif guess > target_number:\n",
    "            print(\"Try a smaller number.\")\n",
    "        else:\n",
    "            print(f\"That's right, {player_name}! The number was {target_number}. Number of tries: {tries}\")\n",
    "            return tries\n",
    "\n",
    "def main():\n",
    "    print(\"Welcome to the two-player guessing game!\")\n",
    "\n",
    "    player1_name = input(\"Enter Player 1's name: \")\n",
    "    player2_name = input(\"Enter Player 2's name: \")\n",
    "\n",
    "    player1_tries = play_game(player1_name)\n",
    "    print()\n",
    "\n",
    "    player2_tries = play_game(player2_name)\n",
    "    print()\n",
    "\n",
    "    if player1_tries < player2_tries:\n",
    "        print(f\"{player1_name} wins with {player1_tries} tries!\")\n",
    "    elif player2_tries < player1_tries:\n",
    "        print(f\"{player2_name} wins with {player2_tries} tries!\")\n",
    "    else:\n",
    "        print(\"It's a tie!\")\n",
    "\n",
    "if __name__ == \"__main__\":\n",
    "    main()\n"
   ]
  },
  {
   "cell_type": "code",
   "execution_count": null,
   "id": "d74bbb91",
   "metadata": {},
   "outputs": [],
   "source": []
  }
 ],
 "metadata": {
  "kernelspec": {
   "display_name": "Python 3 (ipykernel)",
   "language": "python",
   "name": "python3"
  },
  "language_info": {
   "codemirror_mode": {
    "name": "ipython",
    "version": 3
   },
   "file_extension": ".py",
   "mimetype": "text/x-python",
   "name": "python",
   "nbconvert_exporter": "python",
   "pygments_lexer": "ipython3",
   "version": "3.11.5"
  }
 },
 "nbformat": 4,
 "nbformat_minor": 5
}
